{
 "cells": [
  {
   "cell_type": "code",
   "execution_count": null,
   "metadata": {},
   "outputs": [],
   "source": [
    "dict_var = {\n",
    "    'V1' : 24,\n",
    "    'V2' : 0,\n",
    "    'V3' : 0\n",
    "}\n",
    "# n = 1\n",
    "# list_var = [{'V1': 2, 'P1' : 1, 'Q1': 1}, {'V2' : 1, 'P2':2, 'Q2':1}]\n",
    "# for i in list_var[n-1]:\n",
    "#     print(list_var[i][f'P{i}'])\n",
    "#     n += 1\n",
    "\n",
    "list_var = [{'V1': 2, 'P1': 32, 'Q1': 1}, {'V2': 1, 'P2': 28, 'Q2': 1}, {'V3': 3, 'P3': 13, 'Q3': 1}]\n",
    "\n",
    "for dictionary in list_var:\n",
    "    for key, value in dictionary.items():\n",
    "        if key.startswith('P'):\n",
    "            print(value)\n",
    "\n",
    "# print(dict_var['V1'])\n"
   ]
  }
 ],
 "metadata": {
  "language_info": {
   "name": "python"
  }
 },
 "nbformat": 4,
 "nbformat_minor": 2
}
