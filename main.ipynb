{
 "cells": [
  {
   "cell_type": "markdown",
   "metadata": {},
   "source": [
    "# Initialize imports"
   ]
  },
  {
   "cell_type": "code",
   "execution_count": 2,
   "metadata": {},
   "outputs": [],
   "source": [
    "from classes import *\n",
    "from functions import *"
   ]
  },
  {
   "cell_type": "markdown",
   "metadata": {},
   "source": [
    "# Setting up Y_Bus, bus and line objects for all task"
   ]
  },
  {
   "cell_type": "code",
   "execution_count": 3,
   "metadata": {},
   "outputs": [],
   "source": [
    "line_data = ReadCsvFile('./files/given_network/network_configuration_line_data.csv')\n",
    "# bus_data = ReadCsvFile('./files/given_network/network_configuration_bus_data_slack1.csv')\n",
    "bus_data = ReadCsvFile('./files/given_network/network_configuration_bus_data_slack2.csv')\n",
    "\n",
    "Sbase = 100 # MVA\n",
    "Ubase = 230 # kV\n",
    "Zbase = (Ubase**2)/Sbase\n",
    "max_iterations = 300\n",
    "tolerance = 1e-6\n"
   ]
  },
  {
   "cell_type": "markdown",
   "metadata": {},
   "source": [
    "# Newton Raphson Load Flow Algorithm"
   ]
  },
  {
   "cell_type": "code",
   "execution_count": 4,
   "metadata": {},
   "outputs": [
    {
     "name": "stdout",
     "output_type": "stream",
     "text": [
      "\\begin{tabular}{lrlrrrr}\n",
      "\\toprule\n",
      " & Bus & Type & Voltage [pu] & Angle [deg] & P [pu] & Q [pu] \\\\\n",
      "\\midrule\n",
      "0 & 1 & PQ_ts & 235.662000 & -0.617000 & 20.000000 & 50.000000 \\\\\n",
      "1 & 2 & Slack & 230.000000 & 0.000000 & 128.641000 & -37.617000 \\\\\n",
      "2 & 3 & PQ & 224.978000 & -3.335000 & -45.000000 & -15.000000 \\\\\n",
      "3 & 4 & PQ & 224.650000 & -3.509000 & -40.000000 & -5.000000 \\\\\n",
      "4 & 5 & PQ & 222.874000 & -3.915000 & -60.000000 & -10.000000 \\\\\n",
      "\\bottomrule\n",
      "\\end{tabular}\n",
      "\n",
      "\n",
      "\n",
      "\\begin{tabular}{lrrrrrrrr}\n",
      "\\toprule\n",
      " & From bus & To bus & P ij[MW] & Q ij[MVAr] & P ji[MW] & Q ji[MVAr] & P Loss[MW] & Q Loss[MVAR] \\\\\n",
      "\\midrule\n",
      "0 & 1 & 2 & -3.913000 & 40.294000 & 4.275000 & -45.356000 & -0.362000 & -5.062000 \\\\\n",
      "1 & 1 & 3 & 23.913000 & 9.706000 & -23.361000 & -13.068000 & 0.552000 & -3.362000 \\\\\n",
      "2 & 2 & 3 & 32.368000 & 0.261000 & -31.736000 & -2.280000 & 0.632000 & -2.019000 \\\\\n",
      "3 & 2 & 4 & 34.072000 & 0.583000 & -33.372000 & -2.389000 & 0.701000 & -1.806000 \\\\\n",
      "4 & 2 & 5 & 57.926000 & 6.895000 & -56.555000 & -5.693000 & 1.370000 & 1.203000 \\\\\n",
      "5 & 3 & 4 & 10.097000 & 0.347000 & -10.086000 & -2.226000 & 0.011000 & -1.878000 \\\\\n",
      "6 & 4 & 5 & 3.458000 & -0.385000 & -3.445000 & -4.307000 & 0.013000 & -3.922000 \\\\\n",
      "\\bottomrule\n",
      "\\end{tabular}\n",
      "\n",
      "\n",
      "\n",
      "\\begin{tabular}{lrrrrrr}\n",
      "\\toprule\n",
      " & From bus & To bus & S_ij [MVA] & I_ij [A] & S_ji [MVA] & I_ji [A] \\\\\n",
      "\\midrule\n",
      "0 & 1 & 2 & 40.483699 & 171.786996 & 45.557342 & 198.075400 \\\\\n",
      "1 & 1 & 3 & 25.807270 & 109.509591 & 26.767535 & 118.978342 \\\\\n",
      "2 & 2 & 3 & 32.368850 & 140.734131 & 31.817893 & 141.426553 \\\\\n",
      "3 & 2 & 4 & 34.077363 & 148.162447 & 33.457240 & 148.930620 \\\\\n",
      "4 & 2 & 5 & 58.334554 & 253.628494 & 56.841047 & 255.037019 \\\\\n",
      "5 & 3 & 4 & 10.103107 & 44.907044 & 10.328934 & 45.977929 \\\\\n",
      "6 & 4 & 5 & 3.479496 & 15.488533 & 5.515335 & 24.746457 \\\\\n",
      "\\bottomrule\n",
      "\\end{tabular}\n",
      "\n",
      "\n",
      "\n",
      "Active loss: 3.641, Reactive loss: -17.617\n",
      "The method converged after 4 iterations!\n",
      "Active powerloss = 2.916 [MW], Reactive powerloss =  -16.847 [MVAr]\n",
      "--- 0.3924281597137451 seconds ---\n"
     ]
    }
   ],
   "source": [
    "from NRLF import NewtonRaphson\n",
    "\n",
    "Q_lim = -0.6\n",
    "\n",
    "NewtonRaphson(bus_data=bus_data, \n",
    "              line_data=line_data, \n",
    "              Sbase=Sbase, \n",
    "              max_iterations=max_iterations, \n",
    "              tolerance=tolerance, \n",
    "              Q_lim=Q_lim\n",
    "              )\n"
   ]
  },
  {
   "cell_type": "markdown",
   "metadata": {},
   "source": [
    "# Decoupled Load Flow"
   ]
  },
  {
   "cell_type": "code",
   "execution_count": 4,
   "metadata": {},
   "outputs": [
    {
     "name": "stdout",
     "output_type": "stream",
     "text": [
      "The method converged after 8 iterations!\n",
      "\n",
      "   Bus   Type  Voltage [pu]  Angle [deg]    P [pu]    Q [pu]\n",
      "0    1  Slack      1.060000     0.000000  1.311197  0.908156\n",
      "1    2     PV      1.000000    -2.061259  0.200000 -0.715921\n",
      "2    3     PQ      0.987248    -4.636245 -0.450000 -0.150000\n",
      "3    4     PQ      0.984133    -4.956608 -0.400000 -0.050000\n",
      "4    5     PQ      0.971698    -5.764565 -0.600000 -0.100000\n"
     ]
    }
   ],
   "source": [
    "from DLF import DLF\n",
    "\n",
    "DLF(bus_data=bus_data, \n",
    "    line_data=line_data, \n",
    "    Sbase=Sbase, \n",
    "    max_iterations=max_iterations, \n",
    "    tolerance=tolerance, \n",
    "    Q_lim=Q_lim,\n",
    "    V_lim=V_lim\n",
    "    )\n"
   ]
  },
  {
   "cell_type": "markdown",
   "metadata": {},
   "source": [
    "# Fast Decoupled Load Flow"
   ]
  },
  {
   "cell_type": "code",
   "execution_count": 5,
   "metadata": {},
   "outputs": [
    {
     "name": "stdout",
     "output_type": "stream",
     "text": [
      "The method converged after 3 iterations!\n",
      "\n",
      "   Bus   Type  Voltage [pu]  Angle [deg]    P [pu]    Q [pu]\n",
      "0    1  Slack      1.060000     0.000000  1.311211  0.908152\n",
      "1    2     PV      1.000000    -2.061257  0.200000 -0.715931\n",
      "2    3     PQ      0.987248    -4.636463 -0.450000 -0.150000\n",
      "3    4     PQ      0.984133    -4.956793 -0.400000 -0.050000\n",
      "4    5     PQ      0.971697    -5.764784 -0.600000 -0.100000\n"
     ]
    }
   ],
   "source": [
    "from FDLF import FDLF\n",
    "\n",
    "FDLF(bus_data=bus_data, \n",
    "    line_data=line_data, \n",
    "    Sbase=Sbase, \n",
    "    max_iterations=max_iterations, \n",
    "    tolerance=tolerance\n",
    "    )"
   ]
  },
  {
   "cell_type": "markdown",
   "metadata": {},
   "source": [
    "# DC Power Flow"
   ]
  },
  {
   "cell_type": "code",
   "execution_count": null,
   "metadata": {},
   "outputs": [],
   "source": [
    "from DCPF import DCPF\n",
    "\n",
    "DCPF(bus_data=bus_data,\n",
    "     line_data=line_data,\n",
    "     Sbase=Sbase\n",
    "     )"
   ]
  },
  {
   "cell_type": "code",
   "execution_count": null,
   "metadata": {},
   "outputs": [],
   "source": []
  }
 ],
 "metadata": {
  "kernelspec": {
   "display_name": "venv",
   "language": "python",
   "name": "python3"
  },
  "language_info": {
   "codemirror_mode": {
    "name": "ipython",
    "version": 3
   },
   "file_extension": ".py",
   "mimetype": "text/x-python",
   "name": "python",
   "nbconvert_exporter": "python",
   "pygments_lexer": "ipython3",
   "version": "3.10.5"
  }
 },
 "nbformat": 4,
 "nbformat_minor": 2
}
