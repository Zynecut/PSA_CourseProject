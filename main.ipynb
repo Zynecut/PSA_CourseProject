{
 "cells": [
  {
   "cell_type": "code",
   "execution_count": 11,
   "metadata": {},
   "outputs": [
    {
     "data": {
      "text/html": [
       "<div>\n",
       "<style scoped>\n",
       "    .dataframe tbody tr th:only-of-type {\n",
       "        vertical-align: middle;\n",
       "    }\n",
       "\n",
       "    .dataframe tbody tr th {\n",
       "        vertical-align: top;\n",
       "    }\n",
       "\n",
       "    .dataframe thead th {\n",
       "        text-align: right;\n",
       "    }\n",
       "</style>\n",
       "<table border=\"1\" class=\"dataframe\">\n",
       "  <thead>\n",
       "    <tr style=\"text-align: right;\">\n",
       "      <th></th>\n",
       "      <th>1</th>\n",
       "      <th>3</th>\n",
       "    </tr>\n",
       "  </thead>\n",
       "  <tbody>\n",
       "    <tr>\n",
       "      <th>1</th>\n",
       "      <td>1.250-3.725j</td>\n",
       "      <td>-1.250+3.750j</td>\n",
       "    </tr>\n",
       "    <tr>\n",
       "      <th>3</th>\n",
       "      <td>-1.250+3.750j</td>\n",
       "      <td>1.250-3.725j</td>\n",
       "    </tr>\n",
       "  </tbody>\n",
       "</table>\n",
       "</div>"
      ],
      "text/plain": [
       "              1             3\n",
       "1  1.250-3.725j -1.250+3.750j\n",
       "3 -1.250+3.750j  1.250-3.725j"
      ]
     },
     "metadata": {},
     "output_type": "display_data"
    },
    {
     "data": {
      "text/html": [
       "<div>\n",
       "<style scoped>\n",
       "    .dataframe tbody tr th:only-of-type {\n",
       "        vertical-align: middle;\n",
       "    }\n",
       "\n",
       "    .dataframe tbody tr th {\n",
       "        vertical-align: top;\n",
       "    }\n",
       "\n",
       "    .dataframe thead th {\n",
       "        text-align: right;\n",
       "    }\n",
       "</style>\n",
       "<table border=\"1\" class=\"dataframe\">\n",
       "  <thead>\n",
       "    <tr style=\"text-align: right;\">\n",
       "      <th></th>\n",
       "      <th>1</th>\n",
       "      <th>2</th>\n",
       "    </tr>\n",
       "  </thead>\n",
       "  <tbody>\n",
       "    <tr>\n",
       "      <th>1</th>\n",
       "      <td>5.00-14.97j</td>\n",
       "      <td>-5.00+15.00j</td>\n",
       "    </tr>\n",
       "    <tr>\n",
       "      <th>2</th>\n",
       "      <td>-5.00+15.00j</td>\n",
       "      <td>5.00-14.97j</td>\n",
       "    </tr>\n",
       "  </tbody>\n",
       "</table>\n",
       "</div>"
      ],
      "text/plain": [
       "             1            2\n",
       "1  5.00-14.97j -5.00+15.00j\n",
       "2 -5.00+15.00j  5.00-14.97j"
      ]
     },
     "metadata": {},
     "output_type": "display_data"
    },
    {
     "name": "stdout",
     "output_type": "stream",
     "text": [
      "Bus ID: 1, Voltage Magnitude: 20, Voltage angle: 0\n",
      "Bus ID: 2, Voltage Magnitude: 30, Voltage angle: 5\n"
     ]
    }
   ],
   "source": [
    "from classes import *\n",
    "\n",
    "Line_13 = Line(bus_p=\"1\", bus_q=\"3\", impedance=complex(0.08, 0.24), half_line_charging_admittance=complex(0.0, 0.025))\n",
    "Line_12 = Line(bus_p=\"1\", bus_q=\"2\", impedance=complex(0.02, 0.06), half_line_charging_admittance=complex(0.0, 0.03))\n",
    "\n",
    "display(Line_13.build_Line_pq())\n",
    "display(Line_12.build_Line_pq())\n",
    "\n",
    "bus1 = Bus(bus_id=1, voltage_magnitude=20, voltage_angle=0)\n",
    "bus2 = Bus(bus_id=2, voltage_magnitude=30, voltage_angle=5)\n",
    "print(bus1)\n",
    "print(bus2)\n",
    "\n",
    "\n"
   ]
  },
  {
   "cell_type": "code",
   "execution_count": null,
   "metadata": {},
   "outputs": [],
   "source": [
    "# Lager liste over linjer\n",
    "# Hente fra excel\n",
    "\n",
    "# Lager liste over spenninger med vinkler\n",
    "# Hente fra excel\n",
    "\n",
    "\n",
    "\n",
    "\n",
    "\n",
    "\n",
    "\n",
    "\n",
    "\n",
    "\n",
    "\n"
   ]
  },
  {
   "cell_type": "code",
   "execution_count": 21,
   "metadata": {},
   "outputs": [
    {
     "ename": "TypeError",
     "evalue": "J11_diag_calc() missing 1 required positional argument: 'num_busses'",
     "output_type": "error",
     "traceback": [
      "\u001b[1;31m---------------------------------------------------------------------------\u001b[0m",
      "\u001b[1;31mTypeError\u001b[0m                                 Traceback (most recent call last)",
      "\u001b[1;32mc:\\NTNU\\TET4205 - Elektriske kraftsystemer 2\\PSA_CourseProject\\main.ipynb Cell 2\u001b[0m line \u001b[0;36m5\n\u001b[0;32m     <a href='vscode-notebook-cell:/c%3A/NTNU/TET4205%20-%20Elektriske%20kraftsystemer%202/PSA_CourseProject/main.ipynb#W1sZmlsZQ%3D%3D?line=46'>47</a>\u001b[0m     \u001b[39mreturn\u001b[39;00m dP_dD\n\u001b[0;32m     <a href='vscode-notebook-cell:/c%3A/NTNU/TET4205%20-%20Elektriske%20kraftsystemer%202/PSA_CourseProject/main.ipynb#W1sZmlsZQ%3D%3D?line=48'>49</a>\u001b[0m \u001b[39m# Plasser i tabell/ liste/ dataframe?\u001b[39;00m\n\u001b[1;32m---> <a href='vscode-notebook-cell:/c%3A/NTNU/TET4205%20-%20Elektriske%20kraftsystemer%202/PSA_CourseProject/main.ipynb#W1sZmlsZQ%3D%3D?line=49'>50</a>\u001b[0m J11_diag_calc(bus1, bus2, Line_12)\n",
      "\u001b[1;31mTypeError\u001b[0m: J11_diag_calc() missing 1 required positional argument: 'num_busses'"
     ]
    }
   ],
   "source": [
    "import math\n",
    "\n",
    "def J11_off_diag_calc(bus_i, bus_j, line_ij):    # MIXED FORM: Voltage in polar, impedance in cartesian\n",
    "    \n",
    "    # Lager variabler inni funksjonen\n",
    "    Vi_mag = bus_i.voltage_magnitude\n",
    "    Vi_ang = bus_i.voltage_angle\n",
    "    Vj_mag = bus_j.voltage_magnitude\n",
    "    Vj_ang = bus_j.voltage_angle\n",
    "\n",
    "    y_line_ij = 1/line_ij.impedance\n",
    "\n",
    "    dPi_dDj = Vi_mag * Vj_mag * (y_line_ij.real * math.sin(Vi_ang-Vj_ang) - y_line_ij.imag * math.cos(Vi_ang-Vj_ang))\n",
    "    return dPi_dDj\n",
    "\n",
    "# Bruker grader! Dobbelsjekk at det er rett.\n",
    "# Plasser i tabell/ liste/ dataframe?\n",
    "J11_off_diag_calc(bus1, bus2, Line_12)\n",
    "\n",
    "\n",
    "######################################################################################\n",
    "\n",
    "\n",
    "# Sett inn liste med spenning og vinkel på alle busser\n",
    "# Sett inn liste med impedanser på alle linjer\n",
    "\n",
    "def J11_diag_calc(buses: List[classes.Bus], lines: List[classes.Line]):    # MIXED FORM: Voltage in polar, impedance in cartesian\n",
    "\n",
    "\n",
    "num_busses = size.buses\n",
    "\n",
    "List[classes.Bus], buses\n",
    "\n",
    "    # Bruker grader! Sjekk at det er rett.\n",
    "    for i in range(1, num_busses + 1):\n",
    "        if i == int(bus_i.bus_id):\n",
    "            continue\n",
    "        else:\n",
    "             dPi_dDi = 2 #Må få laget en liste over spenninger og vinkler i alle busser før formel kan legges inn her.\n",
    "\n",
    "\n",
    "    return dPi_dDi\n",
    "\n",
    "# Plasser i tabell/ liste/ dataframe?\n",
    "J11_diag_calc(bus1, bus2, Line_12)\n",
    "\n"
   ]
  },
  {
   "cell_type": "code",
   "execution_count": null,
   "metadata": {},
   "outputs": [],
   "source": []
  }
 ],
 "metadata": {
  "kernelspec": {
   "display_name": "venv",
   "language": "python",
   "name": "python3"
  },
  "language_info": {
   "codemirror_mode": {
    "name": "ipython",
    "version": 3
   },
   "file_extension": ".py",
   "mimetype": "text/x-python",
   "name": "python",
   "nbconvert_exporter": "python",
   "pygments_lexer": "ipython3",
   "version": "3.11.4"
  }
 },
 "nbformat": 4,
 "nbformat_minor": 2
}
