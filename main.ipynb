{
 "cells": [
  {
   "cell_type": "markdown",
   "metadata": {},
   "source": [
    "# Setting up Y_Bus, bus and line objects for all task"
   ]
  },
  {
   "cell_type": "code",
   "execution_count": 4,
   "metadata": {},
   "outputs": [
    {
     "data": {
      "text/plain": [
       "'YBus'"
      ]
     },
     "metadata": {},
     "output_type": "display_data"
    },
    {
     "data": {
      "text/html": [
       "<div>\n",
       "<style scoped>\n",
       "    .dataframe tbody tr th:only-of-type {\n",
       "        vertical-align: middle;\n",
       "    }\n",
       "\n",
       "    .dataframe tbody tr th {\n",
       "        vertical-align: top;\n",
       "    }\n",
       "\n",
       "    .dataframe thead th {\n",
       "        text-align: right;\n",
       "    }\n",
       "</style>\n",
       "<table border=\"1\" class=\"dataframe\">\n",
       "  <thead>\n",
       "    <tr style=\"text-align: right;\">\n",
       "      <th></th>\n",
       "      <th>1</th>\n",
       "      <th>2</th>\n",
       "      <th>3</th>\n",
       "      <th>4</th>\n",
       "      <th>5</th>\n",
       "    </tr>\n",
       "  </thead>\n",
       "  <tbody>\n",
       "    <tr>\n",
       "      <th>1</th>\n",
       "      <td>6.305-18.750j</td>\n",
       "      <td>-5.000000+15.000000j</td>\n",
       "      <td>-1.250000+ 3.750000j</td>\n",
       "      <td>0.000000+ 0.000000j</td>\n",
       "      <td>0.00+ 0.00j</td>\n",
       "    </tr>\n",
       "    <tr>\n",
       "      <th>2</th>\n",
       "      <td>-5.000+15.000j</td>\n",
       "      <td>10.918333-32.500000j</td>\n",
       "      <td>-1.666667+ 5.000000j</td>\n",
       "      <td>-1.666667+ 5.000000j</td>\n",
       "      <td>-2.50+ 7.50j</td>\n",
       "    </tr>\n",
       "    <tr>\n",
       "      <th>3</th>\n",
       "      <td>-1.250+ 3.750j</td>\n",
       "      <td>-1.666667+ 5.000000j</td>\n",
       "      <td>12.971667-38.750000j</td>\n",
       "      <td>-10.000000+30.000000j</td>\n",
       "      <td>0.00+ 0.00j</td>\n",
       "    </tr>\n",
       "    <tr>\n",
       "      <th>4</th>\n",
       "      <td>0.000+ 0.000j</td>\n",
       "      <td>-1.666667+ 5.000000j</td>\n",
       "      <td>-10.000000+30.000000j</td>\n",
       "      <td>12.971667-38.750000j</td>\n",
       "      <td>-1.25+ 3.75j</td>\n",
       "    </tr>\n",
       "    <tr>\n",
       "      <th>5</th>\n",
       "      <td>0.000+ 0.000j</td>\n",
       "      <td>-2.500000+ 7.500000j</td>\n",
       "      <td>0.000000+ 0.000000j</td>\n",
       "      <td>-1.250000+ 3.750000j</td>\n",
       "      <td>3.79-11.25j</td>\n",
       "    </tr>\n",
       "  </tbody>\n",
       "</table>\n",
       "</div>"
      ],
      "text/plain": [
       "               1                     2                     3  \\\n",
       "1  6.305-18.750j  -5.000000+15.000000j  -1.250000+ 3.750000j   \n",
       "2 -5.000+15.000j  10.918333-32.500000j  -1.666667+ 5.000000j   \n",
       "3 -1.250+ 3.750j  -1.666667+ 5.000000j  12.971667-38.750000j   \n",
       "4  0.000+ 0.000j  -1.666667+ 5.000000j -10.000000+30.000000j   \n",
       "5  0.000+ 0.000j  -2.500000+ 7.500000j   0.000000+ 0.000000j   \n",
       "\n",
       "                      4            5  \n",
       "1   0.000000+ 0.000000j  0.00+ 0.00j  \n",
       "2  -1.666667+ 5.000000j -2.50+ 7.50j  \n",
       "3 -10.000000+30.000000j  0.00+ 0.00j  \n",
       "4  12.971667-38.750000j -1.25+ 3.75j  \n",
       "5  -1.250000+ 3.750000j  3.79-11.25j  "
      ]
     },
     "metadata": {},
     "output_type": "display_data"
    }
   ],
   "source": [
    "from classes import *\n",
    "import pandas as pd\n",
    "import os\n",
    "\n",
    "pathToFile = os.path.abspath(os.curdir)\n",
    "df_line_data = pd.read_excel(f\"{pathToFile}\\\\files\\\\network_configuration.xlsx\", sheet_name=\"Line_data\")\n",
    "df_bus_data = pd.read_excel(f\"{pathToFile}\\\\files\\\\network_configuration.xlsx\", sheet_name=\"Bus_data\")\n",
    "line_data = df_line_data.to_dict(orient='records')\n",
    "bus_data = df_bus_data.to_dict(orient='records')\n",
    "line_admittences = []\n",
    "num_buses = len(bus_data)\n",
    "\n",
    "for line_dict in line_data:\n",
    "    line = Line(\n",
    "        bus_p=line_dict['From line'],\n",
    "        bus_q=line_dict['To line'],\n",
    "        impedance=complex(line_dict['R[pu]'], line_dict['X[pu]']),\n",
    "        half_line_charging_admittance=complex(line_dict['Half Line Charging Admittance'])\n",
    "    )\n",
    "    line_admittences.append(line.build_Line_Y_bus())\n",
    "\n",
    "# Initialize YBUS for a N-Bus System\n",
    "Ybus_init = Y_Bus(line_adm=line_admittences)\n",
    "YBus = Ybus_init.build_YBUS(num_buses=num_buses)\n",
    "display('YBus', YBus)"
   ]
  },
  {
   "cell_type": "markdown",
   "metadata": {},
   "source": [
    "# Newton Raphson Load Flow Algorithm"
   ]
  },
  {
   "cell_type": "code",
   "execution_count": null,
   "metadata": {},
   "outputs": [],
   "source": []
  },
  {
   "cell_type": "markdown",
   "metadata": {},
   "source": [
    "# Decoupled Load Flow"
   ]
  },
  {
   "cell_type": "code",
   "execution_count": null,
   "metadata": {},
   "outputs": [],
   "source": []
  },
  {
   "cell_type": "markdown",
   "metadata": {},
   "source": [
    "# Fast Decoupled Load Flow"
   ]
  },
  {
   "cell_type": "code",
   "execution_count": null,
   "metadata": {},
   "outputs": [],
   "source": []
  },
  {
   "cell_type": "markdown",
   "metadata": {},
   "source": [
    "# DC Power Flow"
   ]
  },
  {
   "cell_type": "code",
   "execution_count": null,
   "metadata": {},
   "outputs": [],
   "source": []
  }
 ],
 "metadata": {
  "kernelspec": {
   "display_name": "venv",
   "language": "python",
   "name": "python3"
  },
  "language_info": {
   "codemirror_mode": {
    "name": "ipython",
    "version": 3
   },
   "file_extension": ".py",
   "mimetype": "text/x-python",
   "name": "python",
   "nbconvert_exporter": "python",
   "pygments_lexer": "ipython3",
   "version": "3.10.5"
  }
 },
 "nbformat": 4,
 "nbformat_minor": 2
}
