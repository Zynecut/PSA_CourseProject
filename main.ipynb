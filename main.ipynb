{
 "cells": [
  {
   "cell_type": "markdown",
   "metadata": {},
   "source": [
    "# Initialize imports"
   ]
  },
  {
   "cell_type": "code",
   "execution_count": 3,
   "metadata": {},
   "outputs": [],
   "source": [
    "from classes import *\n",
    "from functions import *\n",
    "import pandas as pd\n",
    "import numpy as np\n",
    "from DLF import DLF\n",
    "from FDLF import FDLF"
   ]
  },
  {
   "cell_type": "markdown",
   "metadata": {},
   "source": [
    "# Setting up Y_Bus, bus and line objects for all task"
   ]
  },
  {
   "cell_type": "code",
   "execution_count": 6,
   "metadata": {},
   "outputs": [
    {
     "data": {
      "text/html": [
       "<div>\n",
       "<style scoped>\n",
       "    .dataframe tbody tr th:only-of-type {\n",
       "        vertical-align: middle;\n",
       "    }\n",
       "\n",
       "    .dataframe tbody tr th {\n",
       "        vertical-align: top;\n",
       "    }\n",
       "\n",
       "    .dataframe thead th {\n",
       "        text-align: right;\n",
       "    }\n",
       "</style>\n",
       "<table border=\"1\" class=\"dataframe\">\n",
       "  <thead>\n",
       "    <tr style=\"text-align: right;\">\n",
       "      <th></th>\n",
       "      <th>0</th>\n",
       "      <th>1</th>\n",
       "      <th>2</th>\n",
       "      <th>3</th>\n",
       "      <th>4</th>\n",
       "    </tr>\n",
       "  </thead>\n",
       "  <tbody>\n",
       "    <tr>\n",
       "      <th>0</th>\n",
       "      <td>6.250-18.695j</td>\n",
       "      <td>-5.000000+15.000000j</td>\n",
       "      <td>-1.250000+ 3.750000j</td>\n",
       "      <td>0.000000+ 0.000000j</td>\n",
       "      <td>0.00+ 0.00j</td>\n",
       "    </tr>\n",
       "    <tr>\n",
       "      <th>1</th>\n",
       "      <td>-5.000+15.000j</td>\n",
       "      <td>10.833333-32.415000j</td>\n",
       "      <td>-1.666667+ 5.000000j</td>\n",
       "      <td>-1.666667+ 5.000000j</td>\n",
       "      <td>-2.50+ 7.50j</td>\n",
       "    </tr>\n",
       "    <tr>\n",
       "      <th>2</th>\n",
       "      <td>-1.250+ 3.750j</td>\n",
       "      <td>-1.666667+ 5.000000j</td>\n",
       "      <td>12.916667-38.695000j</td>\n",
       "      <td>-10.000000+30.000000j</td>\n",
       "      <td>0.00+ 0.00j</td>\n",
       "    </tr>\n",
       "    <tr>\n",
       "      <th>3</th>\n",
       "      <td>0.000+ 0.000j</td>\n",
       "      <td>-1.666667+ 5.000000j</td>\n",
       "      <td>-10.000000+30.000000j</td>\n",
       "      <td>12.916667-38.695000j</td>\n",
       "      <td>-1.25+ 3.75j</td>\n",
       "    </tr>\n",
       "    <tr>\n",
       "      <th>4</th>\n",
       "      <td>0.000+ 0.000j</td>\n",
       "      <td>-2.500000+ 7.500000j</td>\n",
       "      <td>0.000000+ 0.000000j</td>\n",
       "      <td>-1.250000+ 3.750000j</td>\n",
       "      <td>3.75-11.21j</td>\n",
       "    </tr>\n",
       "  </tbody>\n",
       "</table>\n",
       "</div>"
      ],
      "text/plain": [
       "               0                     1                     2  \\\n",
       "0  6.250-18.695j  -5.000000+15.000000j  -1.250000+ 3.750000j   \n",
       "1 -5.000+15.000j  10.833333-32.415000j  -1.666667+ 5.000000j   \n",
       "2 -1.250+ 3.750j  -1.666667+ 5.000000j  12.916667-38.695000j   \n",
       "3  0.000+ 0.000j  -1.666667+ 5.000000j -10.000000+30.000000j   \n",
       "4  0.000+ 0.000j  -2.500000+ 7.500000j   0.000000+ 0.000000j   \n",
       "\n",
       "                      3            4  \n",
       "0   0.000000+ 0.000000j  0.00+ 0.00j  \n",
       "1  -1.666667+ 5.000000j -2.50+ 7.50j  \n",
       "2 -10.000000+30.000000j  0.00+ 0.00j  \n",
       "3  12.916667-38.695000j -1.25+ 3.75j  \n",
       "4  -1.250000+ 3.750000j  3.75-11.21j  "
      ]
     },
     "metadata": {},
     "output_type": "display_data"
    }
   ],
   "source": [
    "line_data = ReadCsvFile('./files/network_configuration_line_data.csv')\n",
    "bus_data = ReadCsvFile('./files/network_configuration_bus_data.csv')\n",
    "\n",
    "Sbase = 100 # MVA\n",
    "Ubase = 230 # kV\n",
    "num_buses = len(bus_data)\n",
    "YBus = BuildYbusMatrix(line_data, num_buses)\n",
    "bus_overview = setupBusType(bus_data)\n",
    "BusList = buildBusList(bus_data, Sbase, bus_overview)\n",
    "\n",
    "df_YBus = pd.DataFrame(YBus)\n",
    "display(df_YBus)"
   ]
  },
  {
   "cell_type": "markdown",
   "metadata": {},
   "source": [
    "# Newton Raphson Load Flow Algorithm"
   ]
  },
  {
   "cell_type": "code",
   "execution_count": 3,
   "metadata": {},
   "outputs": [
    {
     "name": "stdout",
     "output_type": "stream",
     "text": [
      "[[ 0.0314373 ]\n",
      " [ 0.00898817]\n",
      " [-0.0162399 ]\n",
      " [-0.02418557]\n",
      " [-0.04669507]\n",
      " [-0.02927996]\n",
      " [-0.0090333 ]]\n"
     ]
    }
   ],
   "source": [
    "P_spec, Q_spec = findKnowns(bus_data, Sbase)\n",
    "v_guess, dirac_guess = findUnknowns(bus_overview, bus_data)\n",
    "\n",
    "jacobian_matrix = buildJacobian(BusList, P_spec, Q_spec, v_guess, dirac_guess, YBus)\n",
    "\n",
    "deltaP = calcP(BusList, P_spec, YBus, Sbase)\n",
    "deltaQ = calcQ(BusList, Q_spec, YBus, Sbase)\n",
    "knowns = np.concatenate((deltaP, deltaQ), axis= 0)\n",
    "\n",
    "# df_inv_jac = pd.DataFrame(np.linalg.pinv(df_jac))\n",
    "# print(df_inv_jac)\n",
    "unknowns = calcDeltaUnknowns(jacobian_matrix, knowns)\n",
    "print(unknowns)\n",
    "\n",
    "updateVoltageAndAngleList(unknowns, dirac_guess, v_guess)\n",
    "updateBusList(BusList, dirac_guess, v_guess)\n",
    "\n",
    "\n"
   ]
  },
  {
   "cell_type": "markdown",
   "metadata": {},
   "source": [
    "## Output format\n",
    "X<br>Bus no.|Bus Information<br>Volts (pu)|<br>Angle (deg)|Generation<br>(MW)|Generation<br>(MVAr)|Load<br>(MW)|Load<br>(MVAr)|<br>Bus type|<br>To Bus no.|Line Flow<br>(MW)|Line Flow<br>(MVAr)|\n",
    "---|---|---|---|---|---|---|---|---|---|---\n",
    "|1|1.06|0|-|-|0|0|SLACK|2<br>3|||\n",
    "|2|||40|-|20|10|PV|1<br>3<br>4<br>5|||\n",
    "|3|||0|0|45|15|PQ|1<br>2<br>4|||\n",
    "|4|||0|0|40|5|PQ|2<br>3<br>5|||\n",
    "|5|||0|0|60|10|PQ|2<br>4|||\n"
   ]
  },
  {
   "cell_type": "markdown",
   "metadata": {},
   "source": [
    "# Decoupled Load Flow"
   ]
  },
  {
   "cell_type": "code",
   "execution_count": null,
   "metadata": {},
   "outputs": [],
   "source": [
    "dlf_jacobian = calcDecoupledJacobian(BusList, P_spec, Q_spec, v_guess, dirac_guess, YBus)\n",
    "print(dlf_jacobian)\n",
    "dlf_unknowns= calcDecoupledDiracVoltage(dlf_jacobian, knowns)\n",
    "print(dlf_unknowns)"
   ]
  },
  {
   "cell_type": "markdown",
   "metadata": {},
   "source": [
    "# Fast Decoupled Load Flow"
   ]
  },
  {
   "cell_type": "code",
   "execution_count": 2,
   "metadata": {},
   "outputs": [
    {
     "name": "stdout",
     "output_type": "stream",
     "text": [
      "5\n"
     ]
    }
   ],
   "source": [
    "FDLF()\n"
   ]
  },
  {
   "cell_type": "markdown",
   "metadata": {},
   "source": [
    "# DC Power Flow"
   ]
  },
  {
   "cell_type": "code",
   "execution_count": null,
   "metadata": {},
   "outputs": [],
   "source": []
  }
 ],
 "metadata": {
  "kernelspec": {
   "display_name": "venv",
   "language": "python",
   "name": "python3"
  },
  "language_info": {
   "codemirror_mode": {
    "name": "ipython",
    "version": 3
   },
   "file_extension": ".py",
   "mimetype": "text/x-python",
   "name": "python",
   "nbconvert_exporter": "python",
   "pygments_lexer": "ipython3",
   "version": "3.9.7"
  }
 },
 "nbformat": 4,
 "nbformat_minor": 2
}
