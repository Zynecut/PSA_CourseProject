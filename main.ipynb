{
 "cells": [
  {
   "cell_type": "markdown",
   "metadata": {},
   "source": [
    "# Initialize imports"
   ]
  },
  {
   "cell_type": "code",
   "execution_count": null,
   "metadata": {},
   "outputs": [],
   "source": [
    "from classes import *\n",
    "from functions import *"
   ]
  },
  {
   "cell_type": "markdown",
   "metadata": {},
   "source": [
    "# Setting up Y_Bus, bus and line objects for all task"
   ]
  },
  {
   "cell_type": "code",
   "execution_count": null,
   "metadata": {},
   "outputs": [],
   "source": [
    "line_data = ReadCsvFile('./files/given_network/network_configuration_line_data.csv')\n",
    "# line_data = ReadCsvFile('./files/given_network/network_configuration_line_data_no_shunt.csv')\n",
    "bus_data = ReadCsvFile('./files/given_network/network_configuration_bus_data_slack1.csv')\n",
    "# bus_data = ReadCsvFile('./files/given_network/network_configuration_bus_data_slack2.csv')\n",
    "# bus_data = ReadCsvFile('./files/given_network/network_configuration_bus_data_slack1_no_reactive_load.csv')\n",
    "\n",
    "Sbase = 100 # MVA\n",
    "Ubase = 230 # kV\n",
    "Zbase = (Ubase**2)/Sbase\n",
    "max_iterations = 30\n",
    "tolerance = 1e-6\n"
   ]
  },
  {
   "cell_type": "markdown",
   "metadata": {},
   "source": [
    "# Newton Raphson Load Flow Algorithm"
   ]
  },
  {
   "cell_type": "code",
   "execution_count": null,
   "metadata": {},
   "outputs": [],
   "source": [
    "from NRLF import NewtonRaphson\n",
    "\n",
    "Q_lim = 0.65\n",
    "\n",
    "NewtonRaphson(bus_data=bus_data, \n",
    "              line_data=line_data, \n",
    "              Sbase=Sbase, \n",
    "              max_iterations=max_iterations, \n",
    "              tolerance=tolerance, \n",
    "              Q_lim=Q_lim\n",
    "              )\n"
   ]
  },
  {
   "cell_type": "markdown",
   "metadata": {},
   "source": [
    "# Decoupled Load Flow"
   ]
  },
  {
   "cell_type": "code",
   "execution_count": null,
   "metadata": {},
   "outputs": [],
   "source": [
    "from DLF import DLF\n",
    "\n",
    "Q_lim = 0.65\n",
    "\n",
    "DLF(bus_data=bus_data, \n",
    "    line_data=line_data, \n",
    "    Sbase=Sbase, \n",
    "    max_iterations=max_iterations, \n",
    "    tolerance=tolerance, \n",
    "    Q_lim=Q_lim\n",
    "    )\n"
   ]
  },
  {
   "cell_type": "markdown",
   "metadata": {},
   "source": [
    "# Fast Decoupled Load Flow"
   ]
  },
  {
   "cell_type": "code",
   "execution_count": null,
   "metadata": {},
   "outputs": [],
   "source": [
    "from FDLF import FDLF\n",
    "\n",
    "# True for calculation partially through iteration or False for calculation at end of iteration.\n",
    "# If False, increase Q_lim. There is a fault that collide with typeSwitching in FDLF.\n",
    "iterate_partial_orEnd = False \n",
    "Q_lim = 1.4\n",
    "\n",
    "FDLF(bus_data=bus_data, \n",
    "    line_data=line_data, \n",
    "    Sbase=Sbase, \n",
    "    max_iterations=max_iterations, \n",
    "    tolerance=tolerance,\n",
    "    Q_lim=Q_lim,\n",
    "    iterate_partial_orEnd=iterate_partial_orEnd\n",
    "    )"
   ]
  },
  {
   "cell_type": "markdown",
   "metadata": {},
   "source": [
    "# DC Power Flow"
   ]
  },
  {
   "cell_type": "code",
   "execution_count": null,
   "metadata": {},
   "outputs": [],
   "source": [
    "from DCPF import DCPF\n",
    "\n",
    "DCPF(bus_data=bus_data,\n",
    "     line_data=line_data,\n",
    "     Sbase=Sbase\n",
    "     )"
   ]
  }
 ],
 "metadata": {
  "kernelspec": {
   "display_name": "venv",
   "language": "python",
   "name": "python3"
  },
  "language_info": {
   "codemirror_mode": {
    "name": "ipython",
    "version": 3
   },
   "file_extension": ".py",
   "mimetype": "text/x-python",
   "name": "python",
   "nbconvert_exporter": "python",
   "pygments_lexer": "ipython3",
   "version": "3.9.7"
  }
 },
 "nbformat": 4,
 "nbformat_minor": 2
}
