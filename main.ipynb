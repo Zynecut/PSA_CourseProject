{
 "cells": [
  {
   "cell_type": "markdown",
   "metadata": {},
   "source": [
    "# Initialize imports"
   ]
  },
  {
   "cell_type": "code",
   "execution_count": 6,
   "metadata": {},
   "outputs": [],
   "source": [
    "from classes import *\n",
    "from functions import *\n",
    "import pandas as pd\n",
    "import numpy as np"
   ]
  },
  {
   "cell_type": "markdown",
   "metadata": {},
   "source": [
    "# Setting up Y_Bus, bus and line objects for all task"
   ]
  },
  {
   "cell_type": "code",
   "execution_count": 7,
   "metadata": {},
   "outputs": [],
   "source": [
    "line_data = ReadCsvFile('./files/given_network/network_configuration_line_data.csv')\n",
    "# bus_data = ReadCsvFile('./files/given_network/network_configuration_bus_data_slack1.csv')\n",
    "bus_data = ReadCsvFile('./files/given_network/network_configuration_bus_data_slack2.csv')\n",
    "\n",
    "Sbase = 100 # MVA\n",
    "Ubase = 230 # kV\n",
    "Zbase = (Ubase**2)/Sbase\n",
    "max_iterations = 300\n",
    "tolerance = 1e-3\n",
    "Q_lim = -0.6\n",
    "V_lim = -0.1 # take 1 - V_lim for max and 1 - abs(V_lim) for min"
   ]
  },
  {
   "cell_type": "markdown",
   "metadata": {},
   "source": [
    "# Newton Raphson Load Flow Algorithm"
   ]
  },
  {
   "cell_type": "code",
   "execution_count": 8,
   "metadata": {},
   "outputs": [
    {
     "name": "stdout",
     "output_type": "stream",
     "text": [
      "The method converged after 3 iterations!\n",
      "   Bus   Type  Voltage [pu]  Angle [deg]    P [pu]    Q [pu]\n",
      "0    1     PV      1.060000    -1.313315  0.200000  1.259489\n",
      "1    2  Slack      1.000000     0.000000  1.306382 -1.081814\n",
      "2    3     PQ      0.987500    -3.474640 -0.450000 -0.150000\n",
      "3    4     PQ      0.984242    -3.614532 -0.400000 -0.050000\n",
      "4    5     PQ      0.971572    -3.941420 -0.600000 -0.100000\n"
     ]
    }
   ],
   "source": [
    "from NRLF import NewtonRaphson\n",
    "\n",
    "NewtonRaphson(bus_data=bus_data, \n",
    "              line_data=line_data, \n",
    "              Sbase=Sbase, \n",
    "              max_iterations=max_iterations, \n",
    "              tolerance=tolerance, \n",
    "              Q_lim=Q_lim,\n",
    "              V_lim=V_lim\n",
    "              )\n"
   ]
  },
  {
   "cell_type": "markdown",
   "metadata": {},
   "source": [
    "## Output format\n",
    "X<br>Bus no.|Bus Information<br>Volts (pu)|<br>Angle (deg)|Generation<br>(MW)|Generation<br>(MVAr)|Load<br>(MW)|Load<br>(MVAr)|<br>Bus type|<br>To Bus no.|Line Flow<br>(MW)|Line Flow<br>(MVAr)|\n",
    "---|---|---|---|---|---|---|---|---|---|---\n",
    "|1|1.06|0|-|-|0|0|SLACK|2<br>3|||\n",
    "|2|||40|-|20|10|PV|1<br>3<br>4<br>5|||\n",
    "|3|||0|0|45|15|PQ|1<br>2<br>4|||\n",
    "|4|||0|0|40|5|PQ|2<br>3<br>5|||\n",
    "|5|||0|0|60|10|PQ|2<br>4|||\n"
   ]
  },
  {
   "cell_type": "markdown",
   "metadata": {},
   "source": [
    "# Decoupled Load Flow"
   ]
  },
  {
   "cell_type": "code",
   "execution_count": 4,
   "metadata": {},
   "outputs": [
    {
     "name": "stdout",
     "output_type": "stream",
     "text": [
      "The method converged after 8 iterations!\n",
      "\n",
      "   Bus   Type  Voltage [pu]  Angle [deg]    P [pu]    Q [pu]\n",
      "0    1  Slack      1.060000     0.000000  1.311197  0.908156\n",
      "1    2     PV      1.000000    -2.061259  0.200000 -0.715921\n",
      "2    3     PQ      0.987248    -4.636245 -0.450000 -0.150000\n",
      "3    4     PQ      0.984133    -4.956608 -0.400000 -0.050000\n",
      "4    5     PQ      0.971698    -5.764565 -0.600000 -0.100000\n"
     ]
    }
   ],
   "source": [
    "from DLF import DLF\n",
    "\n",
    "DLF(bus_data=bus_data, \n",
    "    line_data=line_data, \n",
    "    Sbase=Sbase, \n",
    "    max_iterations=max_iterations, \n",
    "    tolerance=tolerance, \n",
    "    Q_lim=Q_lim,\n",
    "    V_lim=V_lim\n",
    "    )\n"
   ]
  },
  {
   "cell_type": "markdown",
   "metadata": {},
   "source": [
    "# Fast Decoupled Load Flow"
   ]
  },
  {
   "cell_type": "code",
   "execution_count": 5,
   "metadata": {},
   "outputs": [
    {
     "name": "stdout",
     "output_type": "stream",
     "text": [
      "The method converged after 3 iterations!\n",
      "\n",
      "   Bus   Type  Voltage [pu]  Angle [deg]    P [pu]    Q [pu]\n",
      "0    1  Slack      1.060000     0.000000  1.311211  0.908152\n",
      "1    2     PV      1.000000    -2.061257  0.200000 -0.715931\n",
      "2    3     PQ      0.987248    -4.636463 -0.450000 -0.150000\n",
      "3    4     PQ      0.984133    -4.956793 -0.400000 -0.050000\n",
      "4    5     PQ      0.971697    -5.764784 -0.600000 -0.100000\n"
     ]
    }
   ],
   "source": [
    "from FDLF import FDLF\n",
    "\n",
    "FDLF(bus_data=bus_data, \n",
    "    line_data=line_data, \n",
    "    Sbase=Sbase, \n",
    "    max_iterations=max_iterations, \n",
    "    tolerance=tolerance\n",
    "    )"
   ]
  },
  {
   "cell_type": "markdown",
   "metadata": {},
   "source": [
    "# DC Power Flow"
   ]
  },
  {
   "cell_type": "code",
   "execution_count": null,
   "metadata": {},
   "outputs": [],
   "source": [
    "from DCPF import DCPF\n",
    "\n",
    "DCPF(bus_data=bus_data,\n",
    "     line_data=line_data,\n",
    "     Sbase=Sbase\n",
    "     )"
   ]
  },
  {
   "cell_type": "code",
   "execution_count": null,
   "metadata": {},
   "outputs": [],
   "source": []
  }
 ],
 "metadata": {
  "kernelspec": {
   "display_name": "venv",
   "language": "python",
   "name": "python3"
  },
  "language_info": {
   "codemirror_mode": {
    "name": "ipython",
    "version": 3
   },
   "file_extension": ".py",
   "mimetype": "text/x-python",
   "name": "python",
   "nbconvert_exporter": "python",
   "pygments_lexer": "ipython3",
   "version": "3.9.7"
  }
 },
 "nbformat": 4,
 "nbformat_minor": 2
}
