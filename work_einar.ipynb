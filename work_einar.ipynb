{
 "cells": [
  {
   "cell_type": "markdown",
   "metadata": {},
   "source": [
    "# Jakobi 11"
   ]
  },
  {
   "cell_type": "code",
   "execution_count": 2,
   "metadata": {},
   "outputs": [
    {
     "data": {
      "text/plain": [
       "'YBus'"
      ]
     },
     "metadata": {},
     "output_type": "display_data"
    },
    {
     "data": {
      "text/html": [
       "<div>\n",
       "<style scoped>\n",
       "    .dataframe tbody tr th:only-of-type {\n",
       "        vertical-align: middle;\n",
       "    }\n",
       "\n",
       "    .dataframe tbody tr th {\n",
       "        vertical-align: top;\n",
       "    }\n",
       "\n",
       "    .dataframe thead th {\n",
       "        text-align: right;\n",
       "    }\n",
       "</style>\n",
       "<table border=\"1\" class=\"dataframe\">\n",
       "  <thead>\n",
       "    <tr style=\"text-align: right;\">\n",
       "      <th></th>\n",
       "      <th>1</th>\n",
       "      <th>2</th>\n",
       "      <th>3</th>\n",
       "      <th>4</th>\n",
       "      <th>5</th>\n",
       "    </tr>\n",
       "  </thead>\n",
       "  <tbody>\n",
       "    <tr>\n",
       "      <th>1</th>\n",
       "      <td>6.305-18.750j</td>\n",
       "      <td>-5.000000+15.000000j</td>\n",
       "      <td>-1.250000+ 3.750000j</td>\n",
       "      <td>0.000000+ 0.000000j</td>\n",
       "      <td>0.00+ 0.00j</td>\n",
       "    </tr>\n",
       "    <tr>\n",
       "      <th>2</th>\n",
       "      <td>-5.000+15.000j</td>\n",
       "      <td>10.918333-32.500000j</td>\n",
       "      <td>-1.666667+ 5.000000j</td>\n",
       "      <td>-1.666667+ 5.000000j</td>\n",
       "      <td>-2.50+ 7.50j</td>\n",
       "    </tr>\n",
       "    <tr>\n",
       "      <th>3</th>\n",
       "      <td>-1.250+ 3.750j</td>\n",
       "      <td>-1.666667+ 5.000000j</td>\n",
       "      <td>12.971667-38.750000j</td>\n",
       "      <td>-10.000000+30.000000j</td>\n",
       "      <td>0.00+ 0.00j</td>\n",
       "    </tr>\n",
       "    <tr>\n",
       "      <th>4</th>\n",
       "      <td>0.000+ 0.000j</td>\n",
       "      <td>-1.666667+ 5.000000j</td>\n",
       "      <td>-10.000000+30.000000j</td>\n",
       "      <td>12.971667-38.750000j</td>\n",
       "      <td>-1.25+ 3.75j</td>\n",
       "    </tr>\n",
       "    <tr>\n",
       "      <th>5</th>\n",
       "      <td>0.000+ 0.000j</td>\n",
       "      <td>-2.500000+ 7.500000j</td>\n",
       "      <td>0.000000+ 0.000000j</td>\n",
       "      <td>-1.250000+ 3.750000j</td>\n",
       "      <td>3.79-11.25j</td>\n",
       "    </tr>\n",
       "  </tbody>\n",
       "</table>\n",
       "</div>"
      ],
      "text/plain": [
       "               1                     2                     3  \\\n",
       "1  6.305-18.750j  -5.000000+15.000000j  -1.250000+ 3.750000j   \n",
       "2 -5.000+15.000j  10.918333-32.500000j  -1.666667+ 5.000000j   \n",
       "3 -1.250+ 3.750j  -1.666667+ 5.000000j  12.971667-38.750000j   \n",
       "4  0.000+ 0.000j  -1.666667+ 5.000000j -10.000000+30.000000j   \n",
       "5  0.000+ 0.000j  -2.500000+ 7.500000j   0.000000+ 0.000000j   \n",
       "\n",
       "                      4            5  \n",
       "1   0.000000+ 0.000000j  0.00+ 0.00j  \n",
       "2  -1.666667+ 5.000000j -2.50+ 7.50j  \n",
       "3 -10.000000+30.000000j  0.00+ 0.00j  \n",
       "4  12.971667-38.750000j -1.25+ 3.75j  \n",
       "5  -1.250000+ 3.750000j  3.79-11.25j  "
      ]
     },
     "metadata": {},
     "output_type": "display_data"
    }
   ],
   "source": [
    "from classes import *\n",
    "import pandas as pd\n",
    "import os\n",
    "\n",
    "pathToFile = os.path.abspath(os.curdir)\n",
    "df_line_data = pd.read_excel(f\"{pathToFile}\\\\files\\\\network_configuration.xlsx\", sheet_name=\"Line_data\")\n",
    "df_bus_data = pd.read_excel(f\"{pathToFile}\\\\files\\\\network_configuration.xlsx\", sheet_name=\"Bus_data\")\n",
    "line_data = df_line_data.to_dict(orient='records')\n",
    "bus_data = df_bus_data.to_dict(orient='records')\n",
    "line_admittences = []\n",
    "num_buses = len(bus_data)\n",
    "\n",
    "for line_dict in line_data:\n",
    "    line = Line(\n",
    "        bus_p=line_dict['From line'],\n",
    "        bus_q=line_dict['To line'],\n",
    "        impedance=complex(line_dict['R[pu]'], line_dict['X[pu]']),\n",
    "        half_line_charging_admittance=complex(line_dict['Half Line Charging Admittance'])\n",
    "    )\n",
    "    line_admittences.append(line.build_Line_Y_bus())\n",
    "\n",
    "# Initialize YBUS for a N-Bus System\n",
    "Ybus_init = Y_Bus(line_adm=line_admittences)\n",
    "YBus = Ybus_init.build_YBUS(num_buses=num_buses)\n",
    "display('YBus', YBus)\n",
    "\n",
    "\n",
    "# display('bus_data', bus_data)"
   ]
  },
  {
   "cell_type": "code",
   "execution_count": 3,
   "metadata": {},
   "outputs": [
    {
     "name": "stdout",
     "output_type": "stream",
     "text": [
      "          1         2         3         4\n",
      "1  0.0+0.0j -0.0+0.0j -0.0+0.0j  0.0+0.0j\n",
      "2 -0.0+0.0j  0.0+0.0j -0.0+0.0j -0.0+0.0j\n",
      "3 -0.0+0.0j -0.0+0.0j  0.0+0.0j -0.0+0.0j\n",
      "4  0.0+0.0j -0.0+0.0j -0.0+0.0j  0.0+0.0j\n"
     ]
    }
   ],
   "source": [
    "import math\n",
    "import numpy as np\n",
    "\n",
    "##############3 Dette er midlertidig. Får fra Andreas.###################################################\n",
    "list_dict_power = [{'P1': False, 'P2': True, 'P3': True, 'P4': True, 'P5': True},\n",
    "                  {'Q1': False, 'Q2': False, 'Q3': True, 'Q4': True, 'Q5': True},\n",
    "                  {'dirac1': False, 'dirac2': True, 'dirac3': True, 'dirac4': True, 'dirac5': True}]\n",
    "#########################################################################################################\n",
    "\n",
    "\n",
    "\n",
    "def J11_calc(bus_data, YBus, list_dict_power): # Mixed form\n",
    "\n",
    "    row_count = 0\n",
    "    col_count = 0\n",
    "\n",
    "    for element in list_dict_power:\n",
    "        for key, value in element.items():                          # Teller P'er og dirac'er for å vite størrelsen på J11\n",
    "            if key.startswith('P') and value is True:\n",
    "                row_count += 1               \n",
    "            elif key.startswith('d') and value is True:\n",
    "                col_count += 1           \n",
    "    df_J11 = pd.DataFrame(0, index=range(1, row_count+1), columns=range(1, col_count+1), dtype=complex) # Lager en tom dataframe med complexe verdier lik 0\n",
    "\n",
    "\n",
    "# Iterate through each row and column of the J11 array\n",
    "\n",
    "    for i in range(1, row_count+1):\n",
    "        for j in range(1, col_count+1):\n",
    "            if i == j:\n",
    "                continue\n",
    "            \n",
    "            # Tilordner variabler\n",
    "            vi = abs(bus_data[i]['Assumed bus voltage (pu)'])\n",
    "            vj = abs(bus_data[j]['Assumed bus voltage (pu)'])\n",
    "            gij = YBus.at[i, j].real\n",
    "            sin_ij = math.sin(bus_data[i]['Angle'] - bus_data[j]['Angle'])\n",
    "            bij = YBus.at[i, j].imag\n",
    "            cos_ij = math.cos(bus_data[i]['Angle'] - bus_data[j]['Angle'])\n",
    "\n",
    "            # Beregner elementet i matrisen\n",
    "            df_J11.at[i, j] = vi * vj *(gij *sin_ij - bij * sin_ij)\n",
    "\n",
    "    return df_J11\n",
    "            \n",
    "test = J11_calc(bus_data=bus_data,\n",
    "         YBus=YBus,\n",
    "         list_dict_power=list_dict_power)\n",
    "\n",
    "print(test)\n"
   ]
  },
  {
   "cell_type": "code",
   "execution_count": null,
   "metadata": {},
   "outputs": [],
   "source": []
  }
 ],
 "metadata": {
  "kernelspec": {
   "display_name": "venv",
   "language": "python",
   "name": "python3"
  },
  "language_info": {
   "codemirror_mode": {
    "name": "ipython",
    "version": 3
   },
   "file_extension": ".py",
   "mimetype": "text/x-python",
   "name": "python",
   "nbconvert_exporter": "python",
   "pygments_lexer": "ipython3",
   "version": "3.11.4"
  }
 },
 "nbformat": 4,
 "nbformat_minor": 2
}
